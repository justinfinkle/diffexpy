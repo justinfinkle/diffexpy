{
 "cells": [
  {
   "cell_type": "markdown",
   "metadata": {
    "collapsed": true
   },
   "source": [
    "# Pydiffexp\n",
    "The pydiffexp is meant to provide an interface between R and Python to do differential expression analysis."
   ]
  },
  {
   "cell_type": "markdown",
   "metadata": {},
   "source": [
    "## Imports"
   ]
  },
  {
   "cell_type": "code",
   "execution_count": 1,
   "metadata": {
    "collapsed": true
   },
   "outputs": [],
   "source": [
    "import pandas as pd\n",
    "from pydiffexp import DEAnalysis"
   ]
  },
  {
   "cell_type": "markdown",
   "metadata": {},
   "source": [
    "## Load Data"
   ]
  },
  {
   "cell_type": "markdown",
   "metadata": {},
   "source": [
    "Each DEAnalysis object (DEA) operates on a specific dataset. DEA uses a <a href='http://pandas.pydata.org/pandas-docs/stable/advanced.html'> hierarchical dataframe</a> (i.e. a dataframe with a multiindex) for analysis. One can either be supplied, or can be created from a dataframe with appropriate column or row labels.  DEA expects the multiindex to be along the columns and will transform the data if necessary. DEA can also be initilized without data, but many methods will not work as expected."
   ]
  },
  {
   "cell_type": "code",
   "execution_count": 4,
   "metadata": {
    "collapsed": false
   },
   "outputs": [],
   "source": [
    "test_path = \"/Users/jfinkle/Documents/Northwestern/MoDyLS/Python/sprouty/data/raw_data/all_data_formatted.csv\"\n",
    "raw_data = pd.read_csv(test_path, index_col=0)\n",
    "\n",
    "\n",
    "# Initialize analysis object with data. Data is retained\n",
    "\n",
    "# The hierarchy provides the names for each label in the multiindex. 'condition' and 'time' are required \n",
    "hierarchy = ['condition', 'well', 'time', 'replicate']\n",
    "dea = DEAnalysis(raw_data, index_names=hierarchy)"
   ]
  },
  {
   "cell_type": "code",
   "execution_count": null,
   "metadata": {
    "collapsed": true
   },
   "outputs": [],
   "source": [
    "print(dea.data.head())"
   ]
  },
  {
   "cell_type": "code",
   "execution_count": null,
   "metadata": {
    "collapsed": true
   },
   "outputs": [],
   "source": [
    "# Types of contrasts\n",
    "c_dict = {'Diff0': \"(KO_15-KO_0)-(WT_15-WT_0)\", 'Diff15': \"(KO_60-KO_15)-(WT_60-WT_15)\",\n",
    "          'Diff60': \"(KO_120-KO_60)-(WT_120-WT_60)\", 'Diff120': \"(KO_240-KO_120)-(WT_240-WT_120)\"}\n",
    "c_list = [\"KO_15-KO_0\", \"KO_60-KO_15\", \"KO_120-KO_60\", \"KO_240-KO_120\"]\n",
    "c_string = \"KO_0-WT_0\"\n",
    "dea.fit(c_dict)\n",
    "print(dea.get_results())"
   ]
  }
 ],
 "metadata": {
  "kernelspec": {
   "display_name": "Python 3",
   "language": "python",
   "name": "python3"
  },
  "language_info": {
   "codemirror_mode": {
    "name": "ipython",
    "version": 3
   },
   "file_extension": ".py",
   "mimetype": "text/x-python",
   "name": "python",
   "nbconvert_exporter": "python",
   "pygments_lexer": "ipython3",
   "version": "3.5.1"
  }
 },
 "nbformat": 4,
 "nbformat_minor": 0
}
