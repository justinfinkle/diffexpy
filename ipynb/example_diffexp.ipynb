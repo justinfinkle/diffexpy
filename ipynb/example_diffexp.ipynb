{
 "cells": [
  {
   "cell_type": "markdown",
   "metadata": {
    "collapsed": true
   },
   "source": [
    "# Pydiffexp\n",
    "The pydiffexp is meant to provide an interface between R and Python to do differential expression analysis."
   ]
  },
  {
   "cell_type": "markdown",
   "metadata": {},
   "source": [
    "## Imports"
   ]
  },
  {
   "cell_type": "code",
   "execution_count": null,
   "metadata": {
    "collapsed": true
   },
   "outputs": [],
   "source": [
    "import pandas as pd\n",
    "from pydiffexp import DEAnalysis"
   ]
  },
  {
   "cell_type": "markdown",
   "metadata": {},
   "source": [
    "## Load Data"
   ]
  },
  {
   "cell_type": "code",
   "execution_count": null,
   "metadata": {
    "collapsed": true
   },
   "outputs": [],
   "source": [
    "test_path = \"/Users/jfinkle/Documents/Northwestern/MoDyLS/Python/sprouty/data/raw_data/all_data_formatted.csv\"\n",
    "raw_data = pd.read_csv(test_path, index_col=0)\n",
    "hierarchy = ['condition', 'well', 'time', 'replicate']\n",
    "\n",
    "dea = DEAnalysis()\n",
    "dea.set_data(raw_data, index_names=hierarchy)\n",
    "\n",
    "\n",
    "# Types of contrasts\n",
    "c_dict = {'Diff0': \"(KO_15-KO_0)-(WT_15-WT_0)\", 'Diff15': \"(KO_60-KO_15)-(WT_60-WT_15)\",\n",
    "          'Diff60': \"(KO_120-KO_60)-(WT_120-WT_60)\", 'Diff120': \"(KO_240-KO_120)-(WT_240-WT_120)\"}\n",
    "c_list = [\"KO_15-KO_0\", \"KO_60-KO_15\", \"KO_120-KO_60\", \"KO_240-KO_120\"]\n",
    "c_string = \"KO_0-WT_0\"\n",
    "dea.fit(c_dict)\n",
    "print(dea.get_results())\n"
   ]
  }
 ],
 "metadata": {
  "kernelspec": {
   "display_name": "Python 2",
   "language": "python",
   "name": "python2"
  },
  "language_info": {
   "codemirror_mode": {
    "name": "ipython",
    "version": 2
   },
   "file_extension": ".py",
   "mimetype": "text/x-python",
   "name": "python",
   "nbconvert_exporter": "python",
   "pygments_lexer": "ipython2",
   "version": "2.7.11"
  }
 },
 "nbformat": 4,
 "nbformat_minor": 0
}
